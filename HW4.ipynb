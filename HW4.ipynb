{
 "cells": [
  {
   "cell_type": "code",
   "execution_count": null,
   "metadata": {
    "collapsed": true
   },
   "outputs": [],
   "source": [
    "#1.Give a count of all videos currently out.\n",
    "#1)find rental whose return time is null\n",
    "select count(1) from rental\n",
    "\n",
    "   where return_date is NULL\n",
    "\n",
    "    \n",
    "#3.Give the most popular actors by store location.\n",
    "SELECT ad.address,COUNT(fa.actor_id), first_name, last_name\n",
    "FROM rental r\n",
    "JOIN inventory iv on iv.inventory_id = r.inventory_id\n",
    "JOIN store s on s.store_id = iv.store_id\n",
    "JOIN address ad on ad.address_id = s.address_id\n",
    "JOIN film_actor fa on fa.film_id = iv.film_id\n",
    "JOIN actor a on a.actor_id = fa.actor_id\n",
    "GROUP BY ad.address,first_name,last_name\n",
    "ORDER BY COUNT DESC    \n",
    "    \n",
    "    \n",
    "#5.What hour of the day to people rent the most?\n",
    "#1)group by hour\n",
    "#2)count\n",
    "#3)order by count\n",
    "SELECT hour,\n",
    "       count(*)\n",
    "FROM\n",
    "  (SELECT extract(hour\n",
    "                  FROM rental_date) AS hour\n",
    "   FROM rental) AS hour\n",
    "GROUP BY 1\n",
    "ORDER BY COUNT DESC\n",
    "\n",
    "#6.Which store is more profitable, assuming all movies cost $15 per inventory item to purchase.\n",
    "#1)join the table inventory(inventory id) to store (manager) to sales\n",
    "#2)count the inventory and calculate the profit\n",
    "select s.store, (s.total_sales - 15*count(i.inventory_id)) as profit\n",
    "  from sales_by_store s\n",
    "  join staff_list sl on sl.name = s.manager\n",
    "  join inventory i on i.store_id = sl.sid\n",
    "  group by s.store, s.total_sales\n",
    "\n",
    "#7.Given a movie name, find out movies to recommend, based on the most popular movies rented by people who rented *that* movie."
   ]
  }
 ],
 "metadata": {
  "anaconda-cloud": {},
  "kernelspec": {
   "display_name": "Python [default]",
   "language": "python",
   "name": "python3"
  },
  "language_info": {
   "codemirror_mode": {
    "name": "ipython",
    "version": 3
   },
   "file_extension": ".py",
   "mimetype": "text/x-python",
   "name": "python",
   "nbconvert_exporter": "python",
   "pygments_lexer": "ipython3",
   "version": "3.5.2"
  }
 },
 "nbformat": 4,
 "nbformat_minor": 1
}
